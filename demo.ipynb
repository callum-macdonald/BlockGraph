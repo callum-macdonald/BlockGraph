{
 "cells": [
  {
   "cell_type": "markdown",
   "id": "f0ca1498-a01d-4949-abc5-a31a8168daf7",
   "metadata": {},
   "source": [
    "# Playing around with Blockchain Graphs\n",
    "We want to explore blockchain data in a more intuitive way using graphs.  We use the \"ShroomDK\" API from flipside crypto to make queries, and then use some graph network libraries to play with the results. To gain access to ShroomDK, visit [https://sdk.flipsidecrypto.xyz/shroomdk](https://sdk.flipsidecrypto.xyz/shroomdk) and mint your API key, use this as the \"my_key\" variable below.\n",
    "\n",
    "The way this is structured is that we are interested in following connections between wallets as far as it takes until we hit a labelled wallet. This way, we have information about known entities, and bunch of un-labelled addresses that might be of interest.\n",
    "\n",
    "## General flow\n",
    "- Input a list of seed addresses from which we will grow a graph of transactions and associated wallets\n",
    "- Run SQL queries with ShroomDK to find all transactions involving those seed addresses, as well as looking for any address labels, and also check if any addresses are contracts or not.\n",
    "- We Then use NetworkX to produce a graph from these transactions. This creates node and edge objects from a dataframe of transactions\n",
    "- Using the address labels, we simplify the graph, e.g. if there are 10 different addresses associated with \"Binance\",  we represent them as a single node.\n",
    "- We can then enrich the graph with data about the nodes and edges (e.g total transaction volume between nodes, and net volume/direction)"
   ]
  },
  {
   "cell_type": "markdown",
   "id": "fabb72c0-84a0-46bf-926d-9a8081755424",
   "metadata": {},
   "source": [
    "### First, initiate the api"
   ]
  },
  {
   "cell_type": "code",
   "execution_count": 1,
   "id": "e0efcf50-9b59-458f-b171-179e97097155",
   "metadata": {},
   "outputs": [],
   "source": [
    "%load_ext autoreload\n",
    "%autoreload 2\n",
    "\n",
    "import pandas as pd\n",
    "from shroomdk import ShroomDK\n",
    "import networkx as nx\n",
    "from utils import grow_df, draw_graph\n",
    "\n",
    "# my key\n",
    "my_key = '20a4ac26-4880-4fa2-a4b7-53ea31edb54f'\n",
    "sdk = ShroomDK(my_key)"
   ]
  },
  {
   "cell_type": "markdown",
   "id": "256ed54b-3753-4115-97e6-527d8d02ba98",
   "metadata": {},
   "source": [
    "### Grow the dataframe from the seed addresses"
   ]
  },
  {
   "cell_type": "code",
   "execution_count": 2,
   "id": "8aa4cc4c-2eb4-4123-a82e-019c2654d9be",
   "metadata": {},
   "outputs": [
    {
     "name": "stdout",
     "output_type": "stream",
     "text": [
      "Running address query\n",
      "Running contract query\n",
      "Running label query\n"
     ]
    }
   ],
   "source": [
    "# list of starting address(es) of interest\n",
    "seed_addresses = ['0x64e9B9cD74A46f71e7631CB033afA6E7849a8683']\n",
    "\n",
    "# grow_df is designed to work the same for every step of growing the graph, so we must start with some initializations of empty objects\n",
    "nogrow_addresses = [] # this is a list of addresses that we won't continue to grow from, we can update this as we go.\n",
    "contracts = [] # This is a list of contract addresses that we won't grow the graph from. Can also update as we go.\n",
    "address_label_dict = {} # initialize an empty dictionary for the address to label dict.\n",
    "df = pd.DataFrame() # initialize an empty pandas dataframe \n",
    "\n",
    "# make sure lowercase addresses, otherwize problems\n",
    "seed_addresses = [x.lower() for x in seed_addresses] # just making sure lower case addresses\n",
    "nogrow_addresses = [x.lower() for x in nogrow_addresses] # just making sure lower case addresses\n",
    "contracts = [x.lower() for x in contracts] # just making sure lower case addresses\n",
    "\n",
    "limit_connections = 500 # max number of transactions to return from the set of seed addresses\n",
    "rank_by = \"amount_usd\" # Ranking of above number of transactions, e.g. if rank_by =\"amount_usd\" and limit_connections=500, then we get the top 500 transactions from the seed addresses ranked by transaction usd amount \n",
    "\n",
    "out = grow_df(seed_addresses,\n",
    "              nogrow_addresses,\n",
    "              sdk,\n",
    "              address_label_dict_prev=address_label_dict,\n",
    "              contracts_prev=contracts,\n",
    "              df=df,limit_connections=limit_connections)\n",
    "\n",
    "seed_addresses, nogrow_addresses, address_label_dict, label_address_dict, contracts, df  = out"
   ]
  },
  {
   "cell_type": "markdown",
   "id": "30572c9f-1040-4726-80ab-782a9cdf5af0",
   "metadata": {},
   "source": [
    "### Use the dataframe to make a graph, exported as an html\n",
    "Currently setup such that:\n",
    "\n",
    "- Addresses are circles\n",
    "- Contracts are squares\n",
    "- labelled addresses are yellow and large\n",
    "- unlabelled addresses are red and small\n",
    "- edges connecting to at least one labelled node are yellow\n",
    "- all other edges are red (connecting only to unlabelled addresses)\n",
    "- edge widths are determined by total transaction volume\n",
    "\n",
    "html file is saved to directory with name \"filename\""
   ]
  },
  {
   "cell_type": "code",
   "execution_count": 3,
   "id": "715b29cd-a7b2-4eda-9643-f89065bd04d5",
   "metadata": {},
   "outputs": [],
   "source": [
    "filename = \"test1\"\n",
    "html = draw_graph(df,address_label_dict,label_address_dict,contracts,filename)"
   ]
  },
  {
   "cell_type": "markdown",
   "id": "c91ddb9f-99b9-47e1-aec9-ba89dca7c077",
   "metadata": {},
   "source": [
    "### Now grow graph by another step, i.e. for every new addresss, find all connections to those addresses too."
   ]
  },
  {
   "cell_type": "code",
   "execution_count": 4,
   "id": "4816868f-7dbf-4acf-acfb-6540f2ef630f",
   "metadata": {},
   "outputs": [
    {
     "name": "stdout",
     "output_type": "stream",
     "text": [
      "Running address query\n",
      "Running contract query\n",
      "Running label query\n"
     ]
    }
   ],
   "source": [
    "out = grow_df(seed_addresses,\n",
    "              nogrow_addresses,\n",
    "              sdk,\n",
    "              address_label_dict_prev=address_label_dict,\n",
    "              contracts_prev=contracts,\n",
    "              df=df,limit_connections=limit_connections)\n",
    "\n",
    "seed_addresses, nogrow_addresses, address_label_dict, label_address_dict, contracts, df = out"
   ]
  },
  {
   "cell_type": "code",
   "execution_count": 5,
   "id": "f9049b87-e1be-4431-b44e-2a36a9a4a9ac",
   "metadata": {},
   "outputs": [],
   "source": [
    "# make another graph of the second order connections\n",
    "filename = \"test2\"\n",
    "html = draw_graph(df,address_label_dict,label_address_dict,contracts,filename)"
   ]
  },
  {
   "cell_type": "markdown",
   "id": "55d246b6-29da-40f9-a24f-1ba0d9a2bdc2",
   "metadata": {},
   "source": [
    "### And one more step"
   ]
  },
  {
   "cell_type": "code",
   "execution_count": 6,
   "id": "5dd01efb-fff8-4b88-9e58-9a2d310737ab",
   "metadata": {},
   "outputs": [
    {
     "name": "stdout",
     "output_type": "stream",
     "text": [
      "Running address query\n",
      "Running contract query\n",
      "Running label query\n"
     ]
    }
   ],
   "source": [
    "out = grow_df(seed_addresses,\n",
    "              nogrow_addresses,\n",
    "              sdk,\n",
    "              address_label_dict_prev=address_label_dict,\n",
    "              contracts_prev=contracts,\n",
    "              df=df,limit_connections=limit_connections)\n",
    "\n",
    "seed_addresses, nogrow_addresses, address_label_dict, label_address_dict, contracts, df = out"
   ]
  },
  {
   "cell_type": "code",
   "execution_count": 7,
   "id": "a8a603f3-6345-4b26-b915-137598dfd6a7",
   "metadata": {},
   "outputs": [],
   "source": [
    "# make another graph\n",
    "filename = \"test3\"\n",
    "html = draw_graph(df,address_label_dict,label_address_dict,contracts,filename)"
   ]
  }
 ],
 "metadata": {
  "kernelspec": {
   "display_name": "Python 3 (ipykernel)",
   "language": "python",
   "name": "python3"
  },
  "language_info": {
   "codemirror_mode": {
    "name": "ipython",
    "version": 3
   },
   "file_extension": ".py",
   "mimetype": "text/x-python",
   "name": "python",
   "nbconvert_exporter": "python",
   "pygments_lexer": "ipython3",
   "version": "3.10.8"
  }
 },
 "nbformat": 4,
 "nbformat_minor": 5
}
